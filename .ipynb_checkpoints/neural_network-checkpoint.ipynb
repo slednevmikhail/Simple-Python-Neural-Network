{
 "cells": [
  {
   "cell_type": "code",
   "execution_count": null,
   "id": "7e30e3d3",
   "metadata": {},
   "outputs": [],
   "source": []
  },
  {
   "cell_type": "code",
   "execution_count": 5,
   "id": "8ddeb3ac",
   "metadata": {},
   "outputs": [],
   "source": [
    "import numpy\n",
    "import scipy.special\n",
    "import matplotlib.pyplot\n",
    "%matplotlib inline\n",
    "\n",
    "class neuralNetwork:\n",
    "    def __init__(self,inputnodes, hiddennodes, outputnodes, learningrate):\n",
    "        self.inodes = inputnodes\n",
    "        self.hnodes = hiddennodes\n",
    "        self.onodes = outputnodes\n",
    "        self.lr = learningrate\n",
    "        \n",
    "        self.activation_function = lambda x: scipy.special.expit(x)\n",
    "        self.get_outputs = lambda weights, inputs: self.activation_function(numpy.dot(weights, inputs))\n",
    "        \n",
    "        #wih = input -> hidden ; who = hidden -> output\n",
    "        self.wih = numpy.random.normal(0.0, pow(self.hnodes, -0.5), (self.hnodes, self.inodes))\n",
    "        self.who = numpy.random.normal(0.0, pow(self.onodes, -0.5), (self.onodes,self.hnodes))\n",
    "        pass\n",
    "    \n",
    "    def train(self, input_list, targets_list):\n",
    "        inputs = numpy.array(input_list, ndmin = 2).T\n",
    "        \n",
    "        hidden_outputs = self.get_outputs(self.wih, inputs)\n",
    "        final_outputs = self.get_outputs(self.who, hidden_outputs)\n",
    "        \n",
    "        targets = numpy.array(targets_list, ndmin = 2).T\n",
    "        \n",
    "        output_errors = targets - final_outputs\n",
    "        hidden_errors = numpy.dot(self.who.T , output_errors)\n",
    "        \n",
    "        #weights update\n",
    "        self.who += self.lr * numpy.dot(output_errors * final_outputs * (1.0 - final_outputs), numpy.transpose(hidden_outputs))\n",
    "        self.wih += self.lr * numpy.dot(hidden_errors * hidden_outputs * (1.0 - hidden_outputs), numpy.transpose(inputs))\n",
    "        pass\n",
    "    \n",
    "    def query(self, input_list):\n",
    "        inputs = numpy.array(input_list, ndmin = 2).T\n",
    "        hidden_outputs = self.get_outputs(self.wih, inputs)\n",
    "        final_outputs = self.get_outputs(self.who, hidden_outputs)\n",
    "        return final_outputs\n",
    "\n",
    "#Nodes amount\n",
    "input_nodes = 784\n",
    "hidden_nodes = 225\n",
    "output_nodes = 10 \n",
    "learningrate = 0.3\n",
    "\n",
    "network = neuralNetwork(input_nodes, hidden_nodes, output_nodes, learningrate)\n",
    "\n",
    "#trainData\n",
    "training_data_file = open(\"mnist_dataset/mnist_train.csv\", 'r')\n",
    "training_data_list = training_data_file.readlines()\n",
    "training_data_file.close()\n",
    "\n",
    "for record in training_data_list:\n",
    "    values_list = record.split(',')\n",
    "    inputs = (numpy.asfarray(values_list[1:]) / 255.0 * 0.99 + 0.01)\n",
    "    targets = numpy.zeros(output_nodes) + 0.1\n",
    "    targets[int(values_list[0])] = 0.99\n",
    "    network.train(inputs, targets)\n",
    "    pass\n",
    "        \n",
    "        \n",
    "        \n",
    "        \n",
    "        \n",
    "    "
   ]
  },
  {
   "cell_type": "code",
   "execution_count": 6,
   "id": "716e353e",
   "metadata": {},
   "outputs": [
    {
     "name": "stdout",
     "output_type": "stream",
     "text": [
      "0.926\n"
     ]
    }
   ],
   "source": [
    "rightcount = 0\n",
    "for draw_number in range(5000, 6000 + 1):\n",
    "    test_list = training_data_list[draw_number]\n",
    "    test_values = test_list.split(',')\n",
    "    answer_list = network.query((numpy.asfarray(test_values[1:]) / 255.0 * 0.99 + 0.01))\n",
    "    m = 0\n",
    "    for i in range(0, 9 + 1):\n",
    "        if answer_list[i] > m:\n",
    "            maxI = i\n",
    "            m = answer_list[i]        \n",
    "    if int(test_list[0]) == maxI:\n",
    "        rightcount += 1\n",
    "print(rightcount/1000.0)"
   ]
  },
  {
   "cell_type": "code",
   "execution_count": 8,
   "id": "f869ba87",
   "metadata": {},
   "outputs": [
    {
     "data": {
      "text/plain": [
       "array([[0.07030931],\n",
       "       [0.1006569 ],\n",
       "       [0.08192687],\n",
       "       [0.31042013],\n",
       "       [0.0847952 ],\n",
       "       [0.88048635],\n",
       "       [0.09636535],\n",
       "       [0.10091056],\n",
       "       [0.02611509],\n",
       "       [0.07660078]])"
      ]
     },
     "execution_count": 8,
     "metadata": {},
     "output_type": "execute_result"
    }
   ],
   "source": [
    "network.query((numpy.asfarray(test_values[1:]) / 255.0 * 0.99 + 0.01))"
   ]
  },
  {
   "cell_type": "code",
   "execution_count": 39,
   "id": "9218cf82",
   "metadata": {},
   "outputs": [
    {
     "data": {
      "text/plain": [
       "<matplotlib.image.AxesImage at 0x8cd4e4af70>"
      ]
     },
     "execution_count": 39,
     "metadata": {},
     "output_type": "execute_result"
    },
    {
     "data": {
      "image/png": "[encoded data removed]",
      "text/plain": [
       "<Figure size 432x288 with 1 Axes>"
      ]
     },
     "metadata": {
      "needs_background": "light"
     },
     "output_type": "display_data"
    }
   ],
   "source": [
    "test_list = training_data_list[24]\n",
    "test_values = test_list.split(',')\n",
    "image_array = numpy.asfarray(test_values[1:]).reshape((28,28))\n",
    "matplotlib.pyplot.imshow(image_array, cmap = 'Greys', interpolation = 'None')"
   ]
  },
  {
   "cell_type": "code",
   "execution_count": 16,
   "id": "558ba2c9",
   "metadata": {},
   "outputs": [
    {
     "name": "stdout",
     "output_type": "stream",
     "text": [
      "ожидалось 5 | ответ 5\n"
     ]
    }
   ],
   "source": [
    "answer_list = network.query((numpy.asfarray(test_values[1:]) / 255.0 * 0.99 + 0.01))\n",
    "m = 0\n",
    "for i in range(0, 9 + 1):\n",
    "    if answer_list[i] > m:\n",
    "        maxI = i\n",
    "        m = answer_list[i]        \n",
    "print('ожидалось ' + str(test_list[0]) + ' | ответ ' + str(maxI))"
   ]
  }
 ],
 "metadata": {
  "kernelspec": {
   "display_name": "Python 3 (ipykernel)",
   "language": "python",
   "name": "python3"
  },
  "language_info": {
   "codemirror_mode": {
    "name": "ipython",
    "version": 3
   },
   "file_extension": ".py",
   "mimetype": "text/x-python",
   "name": "python",
   "nbconvert_exporter": "python",
   "pygments_lexer": "ipython3",
   "version": "3.9.7"
  }
 },
 "nbformat": 4,
 "nbformat_minor": 5
}
