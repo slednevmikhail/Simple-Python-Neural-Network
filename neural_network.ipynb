{
 "cells": [
  {
   "cell_type": "code",
   "execution_count": 3,
   "id": "8ddeb3ac",
   "metadata": {},
   "outputs": [],
   "source": [
    "import numpy\n",
    "import scipy.special\n",
    "import matplotlib.pyplot\n",
    "%matplotlib inline\n",
    "\n",
    "class neuralNetwork:\n",
    "    def __init__(self,inputnodes, hiddennodes, outputnodes, learningrate):\n",
    "        self.inodes = inputnodes\n",
    "        self.hnodes = hiddennodes\n",
    "        self.onodes = outputnodes\n",
    "        self.lr = learningrate        \n",
    "        \n",
    "        self.activation_function = lambda x: scipy.special.expit(x)\n",
    "        self.inverse_activation_function = lambda x: scipy.special.logit(x)\n",
    "        self.get_outputs = lambda weights, inputs: self.activation_function(numpy.dot(weights, inputs))\n",
    "        \n",
    "        #wih = input -> hidden ; who = hidden -> output\n",
    "        self.wih = numpy.random.normal(0.0, pow(self.hnodes, -0.5), (self.hnodes, self.inodes))\n",
    "        self.who = numpy.random.normal(0.0, pow(self.onodes, -0.5), (self.onodes,self.hnodes))\n",
    "        \n",
    "        pass\n",
    "    \n",
    "    def train(self, input_list, targets_list):\n",
    "        inputs = numpy.array(input_list, ndmin = 2).T\n",
    "        \n",
    "        hidden_outputs = self.get_outputs(self.wih, inputs)\n",
    "        final_outputs = self.get_outputs(self.who, hidden_outputs)\n",
    "        \n",
    "        targets = numpy.array(targets_list, ndmin = 2).T\n",
    "        \n",
    "        output_errors = targets - final_outputs\n",
    "        hidden_errors = numpy.dot(self.who.T , output_errors)\n",
    "        \n",
    "        #weights update\n",
    "        self.who += self.lr * numpy.dot(output_errors * final_outputs * (1.0 - final_outputs), numpy.transpose(hidden_outputs))\n",
    "        self.wih += self.lr * numpy.dot(hidden_errors * hidden_outputs * (1.0 - hidden_outputs), numpy.transpose(inputs))\n",
    "        pass\n",
    "    \n",
    "    def query(self, input_list):\n",
    "        inputs = numpy.array(input_list, ndmin = 2).T\n",
    "        hidden_outputs = self.get_outputs(self.wih, inputs)\n",
    "        final_outputs = self.get_outputs(self.who, hidden_outputs)\n",
    "        return final_outputs\n",
    "    \n",
    "    def backquery(self, targets_list):\n",
    "        # transpose the targets list to a vertical array\n",
    "        final_outputs = numpy.array(targets_list, ndmin=2).T\n",
    "        \n",
    "        # calculate the signal into the final output layer\n",
    "        final_inputs = self.inverse_activation_function(final_outputs)\n",
    "\n",
    "        # calculate the signal out of the hidden layer\n",
    "        hidden_outputs = numpy.dot(self.who.T, final_inputs)\n",
    "        # scale them back to 0.01 to .99\n",
    "        hidden_outputs -= numpy.min(hidden_outputs)\n",
    "        hidden_outputs /= numpy.max(hidden_outputs)\n",
    "        hidden_outputs *= 0.98\n",
    "        hidden_outputs += 0.01\n",
    "        \n",
    "        # calculate the signal into the hidden layer\n",
    "        hidden_inputs = self.inverse_activation_function(hidden_outputs)\n",
    "        \n",
    "        # calculate the signal out of the input layer\n",
    "        inputs = numpy.dot(self.wih.T, hidden_inputs)\n",
    "        # scale them back to 0.01 to .99\n",
    "        inputs -= numpy.min(inputs)\n",
    "        inputs /= numpy.max(inputs)\n",
    "        inputs *= 0.98\n",
    "        inputs += 0.01\n",
    "        \n",
    "        return inputs\n",
    "    \n",
    "     \n",
    "        \n",
    "        \n",
    "        \n",
    "    "
   ]
  },
  {
   "cell_type": "code",
   "execution_count": null,
   "id": "7e30e3d3",
   "metadata": {},
   "outputs": [],
   "source": [
    "input_nodes = 784\n",
    "hidden_nodes = 200\n",
    "output_nodes = 10 \n",
    "learningrate = 0.1\n",
    "\n",
    "network = neuralNetwork(input_nodes, hidden_nodes, output_nodes, learningrate)\n",
    "\n",
    "training_data_file = open(\"mnist_dataset/mnist_train.csv\", 'r')\n",
    "training_data_list = training_data_file.readlines()\n",
    "training_data_file.close()\n",
    "        \n",
    "#training\n",
    "for record in training_data_list:\n",
    "    values_list = record.split(',')\n",
    "    inputs = (numpy.asfarray(values_list[1:]) / 255.0 * 0.99 + 0.01)\n",
    "    targets = numpy.zeros(output_nodes) + 0.1\n",
    "    targets[int(values_list[0])] = 0.99\n",
    "    network.train(inputs, targets)\n",
    "    pass   "
   ]
  },
  {
   "cell_type": "code",
   "execution_count": 99,
   "id": "6a5e8084",
   "metadata": {},
   "outputs": [
    {
     "name": "stdout",
     "output_type": "stream",
     "text": [
      "[0.99 0.01 0.01 0.01 0.01 0.01 0.01 0.01 0.01 0.01]\n"
     ]
    },
    {
     "data": {
      "text/plain": [
       "<matplotlib.image.AxesImage at 0xd21eb8cf40>"
      ]
     },
     "execution_count": 99,
     "metadata": {},
     "output_type": "execute_result"
    },
    {
     "data": {
      "image/png": "[encoded data removed]",
      "text/plain": [
       "<Figure size 432x288 with 1 Axes>"
      ]
     },
     "metadata": {
      "needs_background": "light"
     },
     "output_type": "display_data"
    }
   ],
   "source": [
    "# run the network backwards, given a label, see what image it produces\n",
    "\n",
    "# label to test\n",
    "label = 0\n",
    "# create the output signals for this label\n",
    "targets = numpy.zeros(output_nodes) + 0.01\n",
    "# all_values[0] is the target label for this record\n",
    "targets[label] = 0.99\n",
    "print(targets)\n",
    "\n",
    "# get image data\n",
    "image_data = network.backquery(targets)\n",
    "\n",
    "# plot image data\n",
    "matplotlib.pyplot.imshow(image_data.reshape(28,28), cmap='Greys', interpolation='None')"
   ]
  },
  {
   "cell_type": "code",
   "execution_count": 90,
   "id": "716e353e",
   "metadata": {},
   "outputs": [
    {
     "name": "stdout",
     "output_type": "stream",
     "text": [
      "0.935\n"
     ]
    }
   ],
   "source": [
    "#training-effiency\n",
    "rightcount = 0\n",
    "for draw_number in range(5000, 6000):\n",
    "    test_list = training_data_list[draw_number]\n",
    "    test_values = test_list.split(',')\n",
    "    answer_list = network.query((numpy.asfarray(test_values[1:]) / 255.0 * 0.99 + 0.01))\n",
    "    m = 0\n",
    "    for i in range(0, 9 + 1):\n",
    "        if answer_list[i] > m:\n",
    "            maxI = i\n",
    "            m = answer_list[i]        \n",
    "    if int(test_list[0]) == maxI:\n",
    "        rightcount += 1\n",
    "print(rightcount/1000.0)"
   ]
  },
  {
   "cell_type": "code",
   "execution_count": 89,
   "id": "f869ba87",
   "metadata": {
    "scrolled": true
   },
   "outputs": [
    {
     "name": "stdout",
     "output_type": "stream",
     "text": [
      "0 - [0.06880699]\n",
      "1 - [0.08211502]\n",
      "2 - [0.97757674]\n",
      "3 - [0.09877282]\n",
      "4 - [0.06050418]\n",
      "5 - [0.12095238]\n",
      "6 - [0.08241534]\n",
      "7 - [0.08043611]\n",
      "8 - [0.05850103]\n",
      "9 - [0.0687521]\n"
     ]
    }
   ],
   "source": [
    "#any png image recognize\n",
    "#example folder: images_example\n",
    "import imageio\n",
    "import scipy.misc\n",
    "\n",
    "image_file_name = '2'\n",
    "img_array = imageio.imread(\"image_examples\\\\\" + image_file_name + '.png', as_gray = True)\n",
    "\n",
    "img_data = 255.0 - img_array.reshape(784)\n",
    "img_data = (img_data / 255.0 * 0.99) + 0.01\n",
    "for i in range(0,10):\n",
    "    print(str(i) + ' - '+ str(network.query(img_data)[i]))\n"
   ]
  },
  {
   "cell_type": "code",
   "execution_count": null,
   "id": "646a0494",
   "metadata": {},
   "outputs": [],
   "source": []
  },
  {
   "cell_type": "code",
   "execution_count": 39,
   "id": "9218cf82",
   "metadata": {},
   "outputs": [
    {
     "data": {
      "text/plain": [
       "<matplotlib.image.AxesImage at 0x8cd4e4af70>"
      ]
     },
     "execution_count": 39,
     "metadata": {},
     "output_type": "execute_result"
    },
    {
     "data": {
      "image/png": "[encoded data removed]",
      "text/plain": [
       "<Figure size 432x288 with 1 Axes>"
      ]
     },
     "metadata": {
      "needs_background": "light"
     },
     "output_type": "display_data"
    }
   ],
   "source": [
    "#bruh just .csv to image\n",
    "\n",
    "test_list = training_data_list[24]\n",
    "test_values = test_list.split(',')\n",
    "image_array = numpy.asfarray(test_values[1:]).reshape((28,28))\n",
    "matplotlib.pyplot.imshow(image_array, cmap = 'Greys', interpolation = 'None')"
   ]
  },
  {
   "cell_type": "code",
   "execution_count": 16,
   "id": "558ba2c9",
   "metadata": {},
   "outputs": [
    {
     "name": "stdout",
     "output_type": "stream",
     "text": [
      "ожидалось 5 | ответ 5\n"
     ]
    }
   ],
   "source": [
    "#test\n",
    "answer_list = network.query((numpy.asfarray(test_values[1:]) / 255.0 * 0.99 + 0.01))\n",
    "m = 0\n",
    "for i in range(0, 9 + 1):\n",
    "    if answer_list[i] > m:\n",
    "        maxI = i\n",
    "        m = answer_list[i]        \n",
    "print('ожидалось ' + str(test_list[0]) + ' | ответ ' + str(maxI))"
   ]
  }
 ],
 "metadata": {
  "kernelspec": {
   "display_name": "Python 3 (ipykernel)",
   "language": "python",
   "name": "python3"
  },
  "language_info": {
   "codemirror_mode": {
    "name": "ipython",
    "version": 3
   },
   "file_extension": ".py",
   "mimetype": "text/x-python",
   "name": "python",
   "nbconvert_exporter": "python",
   "pygments_lexer": "ipython3",
   "version": "3.9.7"
  }
 },
 "nbformat": 4,
 "nbformat_minor": 5
}
